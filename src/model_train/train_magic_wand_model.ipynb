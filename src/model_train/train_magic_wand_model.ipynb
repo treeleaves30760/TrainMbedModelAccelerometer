{
 "cells": [
  {
   "cell_type": "markdown",
   "metadata": {
    "colab_type": "text",
    "id": "1BtkMGSYQOTQ"
   },
   "source": [
    "# Train a gesture recognition model for microcontroller use"
   ]
  },
  {
   "cell_type": "markdown",
   "metadata": {},
   "source": [
    "Modified from https://colab.research.google.com/github/tensorflow/tensorflow/blob/master/tensorflow/lite/micro/examples/magic_wand/train/train_magic_wand_model.ipynb"
   ]
  },
  {
   "cell_type": "markdown",
   "metadata": {},
   "source": [
    "Note: You need to modify the `you_repo_url` and `your_repo_name` below to satify the situation you have.  \n",
    "e.g. `you_repo_url`: https://github.com/username/magic_wand_mbed and `your_repo_name`: magic_wand_mbed"
   ]
  },
  {
   "cell_type": "code",
   "execution_count": 11,
   "metadata": {},
   "outputs": [],
   "source": [
    "import os\n",
    "os.environ['REPO_URL'] = \"https://github.com/treeleaves30760/TrainMbedModelAccelerometer\"\n",
    "os.environ['REPO_NAME'] = \"TrainMbedModelAccelerometer\""
   ]
  },
  {
   "cell_type": "markdown",
   "metadata": {},
   "source": [
    "This is a notebook file for **google colab**.   \n",
    "You can open it directly by https://colab.research.google.com/github/your_repo_name/blob/master/src/model_train/train_magic_wand_model.ipynb when you push to the GitHub.  \n",
    "It only can be open directly from GitHub; otherwise, you need to upload the notebook to google colab by yourself. \n",
    "\n",
    "Training is much faster using GPU acceleration. Before you proceed, ensure you are using a GPU runtime by going to **Runtime -> Change runtime type** and selecting **GPU**. Training will take around 5 minutes on a GPU runtime."
   ]
  },
  {
   "cell_type": "markdown",
   "metadata": {
    "colab_type": "text",
    "id": "LG6ErX5FRIaV"
   },
   "source": [
    "## Configure dependencies (This part only needs to be run once)\n",
    "\n",
    "Run the following cell to ensure the correct version of TensorFlow is used."
   ]
  },
  {
   "cell_type": "code",
   "execution_count": 12,
   "metadata": {
    "colab": {},
    "colab_type": "code",
    "id": "h3sE3keZZnMX"
   },
   "outputs": [
    {
     "name": "stderr",
     "output_type": "stream",
     "text": [
      "UsageError: Line magic function `%tensorflow_version` not found.\n"
     ]
    }
   ],
   "source": [
    "%tensorflow_version 2.x"
   ]
  },
  {
   "cell_type": "markdown",
   "metadata": {},
   "source": [
    "Load the extension autoreload to reload the files included automatically."
   ]
  },
  {
   "cell_type": "code",
   "execution_count": 13,
   "metadata": {},
   "outputs": [
    {
     "name": "stdout",
     "output_type": "stream",
     "text": [
      "The autoreload extension is already loaded. To reload it, use:\n",
      "  %reload_ext autoreload\n"
     ]
    }
   ],
   "source": [
    "%load_ext autoreload\n",
    "%autoreload 2"
   ]
  },
  {
   "cell_type": "markdown",
   "metadata": {},
   "source": [
    "Install a hexdump tool named xxd."
   ]
  },
  {
   "cell_type": "code",
   "execution_count": 14,
   "metadata": {},
   "outputs": [
    {
     "name": "stderr",
     "output_type": "stream",
     "text": [
      "'apt-get' ���O�����Υ~���R�O�B�i���檺�{���Χ妸�ɡC\n"
     ]
    }
   ],
   "source": [
    "# Install xxd if it is not available\n",
    "!apt-get -qq install xxd"
   ]
  },
  {
   "cell_type": "markdown",
   "metadata": {
    "colab_type": "text",
    "id": "STNft9TrfoVh"
   },
   "source": [
    "We'll also clone the repository, which contains the training scripts and dataset."
   ]
  },
  {
   "cell_type": "code",
   "execution_count": 15,
   "metadata": {
    "colab": {},
    "colab_type": "code",
    "id": "ygkWw73dRNda"
   },
   "outputs": [
    {
     "name": "stderr",
     "output_type": "stream",
     "text": [
      "fatal: repository '$REPO_URL' does not exist\n"
     ]
    },
    {
     "ename": "FileNotFoundError",
     "evalue": "[WinError 3] 系統找不到指定的路徑。: '/content/TrainMbedModelAccelerometer/src/model_train'",
     "output_type": "error",
     "traceback": [
      "\u001b[1;31m---------------------------------------------------------------------------\u001b[0m",
      "\u001b[1;31mFileNotFoundError\u001b[0m                         Traceback (most recent call last)",
      "\u001b[1;32m<ipython-input-15-9ec9ab81663a>\u001b[0m in \u001b[0;36m<module>\u001b[1;34m\u001b[0m\n\u001b[0;32m      2\u001b[0m \u001b[0mget_ipython\u001b[0m\u001b[1;33m(\u001b[0m\u001b[1;33m)\u001b[0m\u001b[1;33m.\u001b[0m\u001b[0msystem\u001b[0m\u001b[1;33m(\u001b[0m\u001b[1;34m'git clone --depth 1 $REPO_URL'\u001b[0m\u001b[1;33m)\u001b[0m\u001b[1;33m\u001b[0m\u001b[1;33m\u001b[0m\u001b[0m\n\u001b[0;32m      3\u001b[0m \u001b[1;31m# Change directory to your repo\u001b[0m\u001b[1;33m\u001b[0m\u001b[1;33m\u001b[0m\u001b[0m\n\u001b[1;32m----> 4\u001b[1;33m \u001b[0mos\u001b[0m\u001b[1;33m.\u001b[0m\u001b[0mchdir\u001b[0m\u001b[1;33m(\u001b[0m\u001b[1;34m\"/content/\"\u001b[0m\u001b[1;33m+\u001b[0m\u001b[0mos\u001b[0m\u001b[1;33m.\u001b[0m\u001b[0menviron\u001b[0m\u001b[1;33m[\u001b[0m\u001b[1;34m'REPO_NAME'\u001b[0m\u001b[1;33m]\u001b[0m\u001b[1;33m+\u001b[0m\u001b[1;34m\"/src/model_train\"\u001b[0m\u001b[1;33m)\u001b[0m\u001b[1;33m\u001b[0m\u001b[1;33m\u001b[0m\u001b[0m\n\u001b[0m",
      "\u001b[1;31mFileNotFoundError\u001b[0m: [WinError 3] 系統找不到指定的路徑。: '/content/TrainMbedModelAccelerometer/src/model_train'"
     ]
    }
   ],
   "source": [
    "# Clone the repository from your GitHub repo\n",
    "!git clone --depth 1 $REPO_URL\n",
    "# Change directory to your repo\n",
    "os.chdir(\"/content/\"+os.environ['REPO_NAME']+\"/src/model_train\")"
   ]
  },
  {
   "cell_type": "markdown",
   "metadata": {},
   "source": [
    "## Modify the config.py\n",
    "You can modify the `config.py` in the google colab.  "
   ]
  },
  {
   "cell_type": "markdown",
   "metadata": {},
   "source": [
    "1. Click on the files icon on the left sidebar.  \n",
    "2. Explore to the `config.py`.  \n",
    "3. Double click on it to open it.  \n",
    "4. You can start to modify `config.py`.  \n",
    "5. Remember to save `config.py` by hitting <kbd> Ctrl + s </kbd> or <kbd> Cmd + s </kbd> on the file window."
   ]
  },
  {
   "cell_type": "markdown",
   "metadata": {
    "colab_type": "text",
    "id": "pXI7R4RehFdU"
   },
   "source": [
    "## Prepare the data\n",
    "\n",
    "We'll then run the scripts that split the data into training, validation, and test sets."
   ]
  },
  {
   "cell_type": "code",
   "execution_count": null,
   "metadata": {
    "colab": {},
    "colab_type": "code",
    "id": "XBqSVpi6Vxss"
   },
   "outputs": [],
   "source": [
    "# Prepare the data\n",
    "!python data_prepare.py\n",
    "# Split the data\n",
    "!python data_split.py"
   ]
  },
  {
   "cell_type": "markdown",
   "metadata": {
    "colab_type": "text",
    "id": "5-cmVbFvhTvy"
   },
   "source": [
    "## Load TensorBoard\n",
    "\n",
    "Now, we set up TensorBoard so that we can graph our accuracy and loss as training proceeds."
   ]
  },
  {
   "cell_type": "code",
   "execution_count": null,
   "metadata": {
    "colab": {},
    "colab_type": "code",
    "id": "CCx6SN9NWRPw"
   },
   "outputs": [],
   "source": [
    "# Load TensorBoard\n",
    "%load_ext tensorboard\n",
    "%tensorboard --logdir logs/scalars"
   ]
  },
  {
   "cell_type": "markdown",
   "metadata": {
    "colab_type": "text",
    "id": "ERC2Cr4PhaOl"
   },
   "source": [
    "## Begin training\n",
    "\n",
    "The following cell will begin the training process. Training will take around 5 minutes on a GPU runtime. You'll see the metrics in TensorBoard after a few epochs."
   ]
  },
  {
   "cell_type": "code",
   "execution_count": null,
   "metadata": {
    "colab": {},
    "colab_type": "code",
    "id": "DXmQZgbuWQFO"
   },
   "outputs": [],
   "source": [
    "!python train.py"
   ]
  },
  {
   "cell_type": "markdown",
   "metadata": {
    "colab_type": "text",
    "id": "4gXbVzcXhvGD"
   },
   "source": [
    "## Create a C source file\n",
    "\n",
    "The `train.py` script writes a model, `model.tflite`, to the training scripts' directory.\n",
    "\n",
    "In the following cell, we convert this model into a C++ source file we can use with TensorFlow Lite for Microcontrollers."
   ]
  },
  {
   "cell_type": "code",
   "execution_count": null,
   "metadata": {
    "colab": {},
    "colab_type": "code",
    "id": "8wgei4OGe3Nz"
   },
   "outputs": [],
   "source": [
    "# Save the file as a C source file\n",
    "!xxd -i /content/$REPO_NAME/model/model.tflite > /content/$REPO_NAME/src/model.cpp"
   ]
  },
  {
   "cell_type": "markdown",
   "metadata": {},
   "source": [
    "## Copy the result of the cell below"
   ]
  },
  {
   "cell_type": "code",
   "execution_count": null,
   "metadata": {},
   "outputs": [],
   "source": [
    "# Print the source file\n",
    "!cat /content/$REPO_NAME/src/model.cpp"
   ]
  }
 ],
 "metadata": {
  "accelerator": "GPU",
  "colab": {
   "collapsed_sections": [],
   "name": "Train a gesture recognition model for microcontroller use",
   "provenance": [],
   "toc_visible": true
  },
  "kernelspec": {
   "display_name": "Python 3",
   "language": "python",
   "name": "python3"
  },
  "language_info": {
   "codemirror_mode": {
    "name": "ipython",
    "version": 3
   },
   "file_extension": ".py",
   "mimetype": "text/x-python",
   "name": "python",
   "nbconvert_exporter": "python",
   "pygments_lexer": "ipython3",
   "version": "3.9.8"
  }
 },
 "nbformat": 4,
 "nbformat_minor": 1
}
